{
 "cells": [
  {
   "cell_type": "code",
   "execution_count": 14,
   "metadata": {},
   "outputs": [],
   "source": [
    "import pandas as pd\n",
    "\n",
    "\n",
    "#file_path = '.sales.csv'\n",
    "data = pd.read_csv(\"sales.csv\")"
   ]
  },
  {
   "cell_type": "code",
   "execution_count": 15,
   "metadata": {},
   "outputs": [],
   "source": [
    "\n",
    "data['date'] = pd.to_datetime(data['date'])  # Convert to datetime format\n",
    "data['month'] = data['date'].dt.month\n",
    "data['day_of_month'] = data['date'].dt.day\n",
    "data['week_of_year'] = data['date'].dt.isocalendar().week.astype(int)\n",
    "data['day_of_week'] = data['date'].dt.dayofweek + 1\n",
    "data['is_month_end'] = data['date'].dt.is_month_end.astype(int)\n",
    "data['state_holiday'] = data['state_holiday'].map(lambda x: 0 if x == '0' else 1)\n",
    "\n",
    "# Interaction Features\n",
    "data['customer_promotion'] = data['nb_customers_on_day'] * data['promotion']\n",
    "\n",
    "# Prepare data\n",
    "X = data.drop(['sales', 'date', 'Unnamed: 0', 'state_holiday','school_holiday'], axis=1)\n",
    "y = data['sales']"
   ]
  },
  {
   "cell_type": "code",
   "execution_count": 16,
   "metadata": {},
   "outputs": [
    {
     "name": "stdout",
     "output_type": "stream",
     "text": [
      "XGBoost Cross-Validation R² Scores: [0.93103434 0.93174855 0.93163993 0.93270463 0.93193881]\n",
      "XGBoost Mean R² Score: 0.9318 ± 0.0005\n",
      "XGBoost Training R² Score: 0.9351\n",
      "XGBoost Validation R² Score: 0.9316\n",
      "XGBoost Validation MAE: 687.3414\n",
      "XGBoost Validation RMSE: 1006.3731\n",
      "XGBoost does not appear to be overfitting.\n",
      "\n"
     ]
    },
    {
     "name": "stderr",
     "output_type": "stream",
     "text": [
      "c:\\Users\\Salva\\anaconda3\\Lib\\site-packages\\sklearn\\metrics\\_regression.py:483: FutureWarning: 'squared' is deprecated in version 1.4 and will be removed in 1.6. To calculate the root mean squared error, use the function'root_mean_squared_error'.\n",
      "  warnings.warn(\n"
     ]
    }
   ],
   "source": [
    "# Import necessary libraries\n",
    "from sklearn.model_selection import train_test_split, cross_val_score, learning_curve, KFold\n",
    "from sklearn.metrics import r2_score, mean_absolute_error, mean_squared_error\n",
    "from xgboost import XGBRegressor\n",
    "import matplotlib.pyplot as plt\n",
    "import numpy as np\n",
    "\n",
    "# Assuming your DataFrame is named 'data'\n",
    "# X = data.drop('sales', axis=1)\n",
    "# y = data['sales']\n",
    "\n",
    "# Split the data into training and validation sets\n",
    "X_train, X_val, y_train, y_val = train_test_split(X, y, test_size=0.4, random_state=42)\n",
    "\n",
    "# Define the XGBoost model\n",
    "xgb_model = XGBRegressor(random_state=42)\n",
    "\n",
    "# K-Fold Cross Validation\n",
    "kf = KFold(n_splits=5, shuffle=True, random_state=42)\n",
    "\n",
    "# Evaluate the XGBoost model using cross-validation\n",
    "cv_scores = cross_val_score(xgb_model, X_train, y_train, cv=kf, scoring='r2')\n",
    "print(f\"XGBoost Cross-Validation R² Scores: {cv_scores}\")\n",
    "print(f\"XGBoost Mean R² Score: {np.mean(cv_scores):.4f} ± {np.std(cv_scores):.4f}\")\n",
    "\n",
    "# Fit the model on the full training set\n",
    "xgb_model.fit(X_train, y_train)\n",
    "\n",
    "# Predict and evaluate on the validation set\n",
    "y_train_pred = xgb_model.predict(X_train)\n",
    "y_val_pred = xgb_model.predict(X_val)\n",
    "\n",
    "# R² Scores\n",
    "train_r2 = r2_score(y_train, y_train_pred)\n",
    "val_r2 = r2_score(y_val, y_val_pred)\n",
    "print(f\"XGBoost Training R² Score: {train_r2:.4f}\")\n",
    "print(f\"XGBoost Validation R² Score: {val_r2:.4f}\")\n",
    "\n",
    "# Mean Absolute Error (MAE)\n",
    "val_mae = mean_absolute_error(y_val, y_val_pred)\n",
    "print(f\"XGBoost Validation MAE: {val_mae:.4f}\")\n",
    "\n",
    "# Root Mean Squared Error (RMSE)\n",
    "val_rmse = mean_squared_error(y_val, y_val_pred, squared=False)\n",
    "print(f\"XGBoost Validation RMSE: {val_rmse:.4f}\")\n",
    "\n",
    "# Check for overfitting\n",
    "if train_r2 - val_r2 > 0.1:  # Adjust the threshold based on your needs\n",
    "    print(\"XGBoost may be overfitting.\\n\")\n",
    "else:\n",
    "    print(\"XGBoost does not appear to be overfitting.\\n\")\n",
    "\n"
   ]
  },
  {
   "cell_type": "code",
   "execution_count": 22,
   "metadata": {},
   "outputs": [
    {
     "name": "stdout",
     "output_type": "stream",
     "text": [
      "    index  store_ID  day_of_week        date  nb_customers_on_day  open  \\\n",
      "0  272371       415            7  01/03/2015                    0     0   \n",
      "1  558468        27            7  29/12/2013                    0     0   \n",
      "2   76950       404            3  19/03/2014                  657     1   \n",
      "3   77556       683            2  29/01/2013                  862     1   \n",
      "4  456344       920            3  19/03/2014                  591     1   \n",
      "\n",
      "   promotion state_holiday  school_holiday  \n",
      "0          0             0               0  \n",
      "1          0             0               0  \n",
      "2          1             0               0  \n",
      "3          0             0               0  \n",
      "4          1             0               0  \n",
      "    index  store_ID  day_of_week       date  nb_customers_on_day  open  \\\n",
      "0  272371       415            7 2015-03-01                    0     0   \n",
      "1  558468        27            7 2013-12-29                    0     0   \n",
      "2   76950       404            3 2014-03-19                  657     1   \n",
      "3   77556       683            2 2013-01-29                  862     1   \n",
      "4  456344       920            3 2014-03-19                  591     1   \n",
      "\n",
      "   promotion  state_holiday  school_holiday  month  day_of_month  \\\n",
      "0          0              0               0      3             1   \n",
      "1          0              0               0     12            29   \n",
      "2          1              0               0      3            19   \n",
      "3          0              0               0      1            29   \n",
      "4          1              0               0      3            19   \n",
      "\n",
      "   week_of_year  is_month_end  customer_promotion  predicted_sales  \n",
      "0             9             0                   0         0.000000  \n",
      "1            52             0                   0         0.000000  \n",
      "2            12             0                 657      6710.688965  \n",
      "3             5             0                   0      7361.603027  \n",
      "4            12             0                 591      6064.591797  \n"
     ]
    }
   ],
   "source": [
    "# Load the real-life data\n",
    "real_life_data = pd.read_csv('REAL_DATA.csv')\n",
    "\n",
    "# Check the first few rows to confirm the date format\n",
    "print(real_life_data.head())\n",
    "\n",
    "# Convert date column to datetime with the correct format\n",
    "# Use the format that matches the date format in your file (e.g., \"%d/%m/%Y\" for \"29/10/2013\")\n",
    "real_life_data['date'] = pd.to_datetime(real_life_data['date'], format='%d/%m/%Y')\n",
    "\n",
    "# Create necessary date features\n",
    "real_life_data['month'] = real_life_data['date'].dt.month\n",
    "real_life_data['day_of_month'] = real_life_data['date'].dt.day\n",
    "real_life_data['week_of_year'] = real_life_data['date'].dt.isocalendar().week.astype(int)\n",
    "real_life_data['day_of_week'] = real_life_data['date'].dt.dayofweek + 1\n",
    "real_life_data['is_month_end'] = real_life_data['date'].dt.is_month_end.astype(int)\n",
    "\n",
    "# Map state_holiday to numeric as done in training\n",
    "real_life_data['state_holiday'] = real_life_data['state_holiday'].map(lambda x: 0 if x == '0' else -1)\n",
    "\n",
    "# Create interaction feature as done in the training phase\n",
    "real_life_data['customer_promotion'] = real_life_data['nb_customers_on_day'] * real_life_data['promotion']\n",
    "\n",
    "# Select only the features that were used during the training of the model\n",
    "X_real_life = real_life_data.drop(['date', 'index', 'state_holiday', 'school_holiday'], axis=1)\n",
    "\n",
    "# Make predictions on the real evaluation data\n",
    "predicted_sales = xgb_model.predict(X_real_life)\n",
    "\n",
    "# Add the predictions to the original data\n",
    "real_life_data['predicted_sales'] = predicted_sales\n",
    "# Set predicted sales to zero if the store is closed (open = 0)\n",
    "real_life_data.loc[real_life_data['open'] == 0, 'predicted_sales'] = 0\n",
    "\n",
    "# Save the results to a new CSV file or display the first few rows\n",
    "real_life_data.to_csv('REAL_DATA_with_predictionsv.csv', index=False)\n",
    "\n",
    "# Display the first few rows of the resulting data with predictions\n",
    "print(real_life_data.head())\n"
   ]
  },
  {
   "cell_type": "code",
   "execution_count": 18,
   "metadata": {},
   "outputs": [
    {
     "name": "stdout",
     "output_type": "stream",
     "text": [
      "count    71205.000000\n",
      "mean      5767.232910\n",
      "std       3694.053955\n",
      "min          0.000000\n",
      "25%       4010.524414\n",
      "50%       5892.527344\n",
      "75%       7750.179199\n",
      "max      29693.089844\n",
      "Name: predicted_sales, dtype: float64\n",
      "count    384504.000000\n",
      "mean       5777.480606\n",
      "std        3854.222483\n",
      "min           0.000000\n",
      "25%        3729.000000\n",
      "50%        5745.000000\n",
      "75%        7861.000000\n",
      "max       41551.000000\n",
      "Name: sales, dtype: float64\n"
     ]
    }
   ],
   "source": [
    "# Check basic statistics of the predicted sales\n",
    "print(real_life_data['predicted_sales'].describe())\n",
    "\n",
    "# Optionally, compare with statistics from the training set (if available)\n",
    "# Assuming y_train contains the actual sales values used during training\n",
    "print(y_train.describe())\n"
   ]
  },
  {
   "cell_type": "code",
   "execution_count": 19,
   "metadata": {},
   "outputs": [
    {
     "data": {
      "text/plain": [
       "<Axes: title={'center': 'Distribution of Training Sales'}, ylabel='Frequency'>"
      ]
     },
     "execution_count": 19,
     "metadata": {},
     "output_type": "execute_result"
    },
    {
     "data": {
      "image/png": "[encoded data removed]",
      "text/plain": [
       "<Figure size 640x480 with 1 Axes>"
      ]
     },
     "metadata": {},
     "output_type": "display_data"
    }
   ],
   "source": [
    "# Plot histogram of predicted sales\n",
    "real_life_data['predicted_sales'].plot(kind='hist', bins=30, alpha=0.7, title='Distribution of Predicted Sales')\n",
    "\n",
    "# Optional: Compare with historical sales (if available)\n",
    "y_train.plot(kind='hist', bins=30, alpha=0.7, title='Distribution of Training Sales')\n"
   ]
  },
  {
   "cell_type": "code",
   "execution_count": 20,
   "metadata": {},
   "outputs": [
    {
     "data": {
      "text/plain": [
       "<Axes: >"
      ]
     },
     "execution_count": 20,
     "metadata": {},
     "output_type": "execute_result"
    },
    {
     "data": {
      "image/png": "[encoded data removed]",
      "text/plain": [
       "<Figure size 640x480 with 1 Axes>"
      ]
     },
     "metadata": {},
     "output_type": "display_data"
    }
   ],
   "source": [
    "# Plot boxplot of predicted sales to check for outliers\n",
    "real_life_data.boxplot(column='predicted_sales')\n"
   ]
  },
  {
   "cell_type": "code",
   "execution_count": 9,
   "metadata": {},
   "outputs": [
    {
     "name": "stdout",
     "output_type": "stream",
     "text": [
      "                     predicted_sales  nb_customers_on_day  promotion\n",
      "predicted_sales             1.000000             0.933381   0.470088\n",
      "nb_customers_on_day         0.933381             1.000000   0.314851\n",
      "promotion                   0.470088             0.314851   1.000000\n"
     ]
    }
   ],
   "source": [
    "# Check correlation between predicted sales and other features\n",
    "print(real_life_data[['predicted_sales', 'nb_customers_on_day', 'promotion']].corr())\n"
   ]
  },
  {
   "cell_type": "code",
   "execution_count": 24,
   "metadata": {},
   "outputs": [
    {
     "name": "stdout",
     "output_type": "stream",
     "text": [
      "count    7.120500e+04\n",
      "mean     1.314061e-25\n",
      "std      5.137699e-25\n",
      "min      0.000000e+00\n",
      "25%      0.000000e+00\n",
      "50%      0.000000e+00\n",
      "75%      0.000000e+00\n",
      "max      1.323489e-23\n",
      "Name: variance, dtype: float64\n",
      "           pred1      pred2      pred3       mean      variance\n",
      "40065  12308.552  12308.552  12308.552  12308.552  3.308722e-24\n",
      "8862   12791.075  12791.075  12791.075  12791.075  3.308722e-24\n",
      "29429  11167.908  11167.908  11167.908  11167.908  3.308722e-24\n",
      "9147   11717.588  11717.588  11717.588  11717.588  3.308722e-24\n",
      "41196  13452.825  13452.825  13452.825  13452.825  3.308722e-24\n",
      "...          ...        ...        ...        ...           ...\n",
      "40747  14182.522  14182.522  14182.522  14182.522  3.308722e-24\n",
      "64948  11418.766  11418.766  11418.766  11418.766  3.308722e-24\n",
      "47140  11132.609  11132.609  11132.609  11132.609  3.308722e-24\n",
      "55958  12701.446  12701.446  12701.446  12701.446  3.308722e-24\n",
      "19673  11604.270  11604.270  11604.270  11604.270  3.308722e-24\n",
      "\n",
      "[1023 rows x 5 columns]\n"
     ]
    },
    {
     "data": {
      "image/png": "[encoded data removed]",
      "text/plain": [
       "<Figure size 640x480 with 1 Axes>"
      ]
     },
     "metadata": {},
     "output_type": "display_data"
    }
   ],
   "source": [
    "import pandas as pd\n",
    "\n",
    "# Load multiple prediction files\n",
    "pred1 = pd.read_csv('REAL_DATA_with_predictions.csv')\n",
    "pred2 = pd.read_csv('REAL_DATA_with_predictionsv2.csv')\n",
    "pred3 = pd.read_csv('REAL_DATA_with_predictionsv3.csv')\n",
    "\n",
    "# Merge or align the data if needed (ensure all predictions are comparable)\n",
    "pred1 = pred1.sort_values('date')\n",
    "pred2 = pred2.sort_values('date')\n",
    "pred3 = pred3.sort_values('date')\n",
    "\n",
    "# Combine predictions into a DataFrame\n",
    "comparison = pd.DataFrame({\n",
    "    'pred1': pred1['predicted_sales'],\n",
    "    'pred2': pred2['predicted_sales'],\n",
    "    'pred3': pred3['predicted_sales']\n",
    "})\n",
    "\n",
    "# Calculate mean and variance of the predictions\n",
    "comparison['mean'] = comparison.mean(axis=1)\n",
    "comparison['variance'] = comparison.var(axis=1)\n",
    "\n",
    "# Summary statistics of variance\n",
    "print(comparison['variance'].describe())\n",
    "\n",
    "# Plot the variance to visually inspect consistency\n",
    "comparison['variance'].plot(kind='hist', title='Variance of Predictions')\n",
    "\n",
    "# Check specific rows with high variance to understand differences\n",
    "high_variance = comparison[comparison['variance'] > comparison['variance'].quantile(0.95)]\n",
    "print(high_variance)\n"
   ]
  }
 ],
 "metadata": {
  "kernelspec": {
   "display_name": "base",
   "language": "python",
   "name": "python3"
  },
  "language_info": {
   "codemirror_mode": {
    "name": "ipython",
    "version": 3
   },
   "file_extension": ".py",
   "mimetype": "text/x-python",
   "name": "python",
   "nbconvert_exporter": "python",
   "pygments_lexer": "ipython3",
   "version": "3.12.3"
  }
 },
 "nbformat": 4,
 "nbformat_minor": 2
}
